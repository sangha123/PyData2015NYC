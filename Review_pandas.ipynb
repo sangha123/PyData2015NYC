{
 "cells": [
  {
   "cell_type": "code",
   "execution_count": 6,
   "metadata": {
    "collapsed": true
   },
   "outputs": [],
   "source": [
    "import numpy as np"
   ]
  },
  {
   "cell_type": "code",
   "execution_count": 2,
   "metadata": {
    "collapsed": true
   },
   "outputs": [],
   "source": [
    "import pandas as pd"
   ]
  },
  {
   "cell_type": "code",
   "execution_count": 3,
   "metadata": {
    "collapsed": false
   },
   "outputs": [],
   "source": [
    "import simplejson as json"
   ]
  },
  {
   "cell_type": "code",
   "execution_count": 8,
   "metadata": {
    "collapsed": false
   },
   "outputs": [],
   "source": [
    "f =open(\"reviews_Grocery_and_Gourmet_Food.json\",mode='r')\n",
    "L = f.readlines()"
   ]
  },
  {
   "cell_type": "code",
   "execution_count": 10,
   "metadata": {
    "collapsed": false
   },
   "outputs": [],
   "source": [
    "review_list = []\n",
    "rating = []\n",
    "reviewer_id = []\n",
    "product_id = []\n",
    "for l in L:\n",
    "    jj = json.loads(l)\n",
    "    if (len(jj['reviewText'].split(\" \"))>12):\n",
    "        review_list += [jj['reviewText']]\n",
    "        rating += [jj['overall']]\n",
    "        reviewer_id += [jj['reviewerID']]\n",
    "        product_id += [jj['asin']]"
   ]
  },
  {
   "cell_type": "code",
   "execution_count": 19,
   "metadata": {
    "collapsed": false
   },
   "outputs": [],
   "source": [
    "d={}\n",
    "d['TEXT'] = review_list\n",
    "d['RATING'] = rating\n",
    "d['reviewerID'] = reviewer_id\n",
    "d['product_id'] = product_id\n",
    "\n",
    "revdf = pd.DataFrame(d)"
   ]
  },
  {
   "cell_type": "code",
   "execution_count": 75,
   "metadata": {
    "collapsed": false
   },
   "outputs": [
    {
     "data": {
      "text/plain": [
       "array([ 'I love sparkling drinks, and I wanted to try new.. something different, and this drink rocks.. It is little bit pricey for my budget, but overall, great drink.  I strongly recommend to those who likes sparkling healthy drinks.  Definitely WINNER!  I hope they will come out with new flavor next time.',\n",
       "       'I had the Minneola tangerine flavor and oh man! What great taste. This is 100% juice and a little fizz and GREAT tangerine flavor. Its just like biting into a real tangerine... amazing. The wife adds some nice champagne and we have ourselves a great mamosa. Check it!',\n",
       "       \"Essn drinks are awesome. The tangerine flavor is very good. These are somewhat sweet sparkling drinks. Not sweet like Fanta. And not as intense or sour as Sanpelligrino's Aranciata.I do prefer the Blood Orange / Cranberry mix a bit better. There's more flavor to that drink. This one is still excellent.\",\n",
       "       \"This juice product tastes like cheap orange juice, but costs a small fortune. Not worth the price, even if your company is buying it (which is the only reason I've tasted the stuff). Their other products that I've tried (Meyer Lemon, Blood Orange and something) have been decent, but this is like mixing canned Minute Maid from concentrate and cheap sparkling water.\",\n",
       "       'If you like healthy drinks this is for you. I would have given it 5 stars but I was recently diagnosed with diabetes so i no longer can drink it because of the natural fruit sugars. But loved the tangerine juice and fuji apple.',\n",
       "       \"Very tasty.  While not my favorite of essn's offerings, this is a very tasty drink for when you are thirsty and don't just want water.  Highly recommended.\",\n",
       "       \"I first stumbled across these amazing little beverages in a bar on the coast of California.  Sounded good so I tried one.  Fantastic!  But they are unavailable in stores around here.  So I called the comapny and was directed to Amazon.com who shipped them out by the case.  Well worth it. 100% juice, no sugar or additives and a truly incredible flavor experience. In 8 oz. cans (perfect for travel)and just right for a couple of good blasts, they stay cold and with just a bit of carbonation they refresh perfectly. Highly recommended. My favorite is the Blood Orange/Cranberry but the Tangerine is a very close second. Try 'em, you'll like 'em.\",\n",
       "       \"I've reordered this Sparkling Minneola Tangerine juice twice. It has been a real hit at our house. Everyone who has tried it has really liked it. The flavor is refreshing with a tart-sweet finish, and a pleasant fizz too. The 24-pack of juice is not inexpensive but this drink is not for chugging. It's for sipping and enjoying.\",\n",
       "       'cannot not truly review this product.  just because it did not set well with me does not mean that it is universal.  my body is sensitive in that area'], dtype=object)"
      ]
     },
     "execution_count": 75,
     "metadata": {},
     "output_type": "execute_result"
    }
   ],
   "source": [
    "revdf[revdf['product_id'] == 'B000BDHBWQ'].TEXT.values"
   ]
  },
  {
   "cell_type": "code",
   "execution_count": 64,
   "metadata": {
    "collapsed": false
   },
   "outputs": [],
   "source": [
    "gg = revdf.groupby('RATING')"
   ]
  },
  {
   "cell_type": "code",
   "execution_count": 68,
   "metadata": {
    "collapsed": false
   },
   "outputs": [
    {
     "data": {
      "text/plain": [
       "Float64Index([1.0, 2.0, 3.0, 4.0, 5.0], dtype='float64', name=u'RATING')"
      ]
     },
     "execution_count": 68,
     "metadata": {},
     "output_type": "execute_result"
    }
   ],
   "source": [
    "gg.count()['TEXT'].index"
   ]
  },
  {
   "cell_type": "code",
   "execution_count": 69,
   "metadata": {
    "collapsed": false
   },
   "outputs": [
    {
     "data": {
      "text/plain": [
       "array([101349,  61881,  95981, 175834, 845991])"
      ]
     },
     "execution_count": 69,
     "metadata": {},
     "output_type": "execute_result"
    }
   ],
   "source": [
    "gg.count()['TEXT'].values"
   ]
  },
  {
   "cell_type": "code",
   "execution_count": 70,
   "metadata": {
    "collapsed": false
   },
   "outputs": [
    {
     "name": "stdout",
     "output_type": "stream",
     "text": [
      "Populating the interactive namespace from numpy and matplotlib\n"
     ]
    },
    {
     "name": "stderr",
     "output_type": "stream",
     "text": [
      "WARNING: pylab import has clobbered these variables: ['title', 'f']\n",
      "`%matplotlib` prevents importing * from pylab and numpy\n"
     ]
    }
   ],
   "source": [
    "%pylab inline"
   ]
  },
  {
   "cell_type": "code",
   "execution_count": 72,
   "metadata": {
    "collapsed": true
   },
   "outputs": [],
   "source": [
    "import seaborn as sns"
   ]
  },
  {
   "cell_type": "code",
   "execution_count": 75,
   "metadata": {
    "collapsed": false
   },
   "outputs": [
    {
     "data": {
      "text/plain": [
       "[<matplotlib.lines.Line2D at 0x183b3c450>]"
      ]
     },
     "execution_count": 75,
     "metadata": {},
     "output_type": "execute_result"
    },
    {
     "data": {
      "image/png": "[encoded data removed]",
      "text/plain": [
       "<matplotlib.figure.Figure at 0x183b3c190>"
      ]
     },
     "metadata": {},
     "output_type": "display_data"
    }
   ],
   "source": [
    "pylab.plot(gg.count()['TEXT'].index,gg.count()['TEXT'].values,'--ro')"
   ]
  },
  {
   "cell_type": "code",
   "execution_count": 77,
   "metadata": {
    "collapsed": false
   },
   "outputs": [],
   "source": [
    "gg_rev_id = revdf.groupby('reviewerID')"
   ]
  },
  {
   "cell_type": "code",
   "execution_count": 143,
   "metadata": {
    "collapsed": false
   },
   "outputs": [
    {
     "data": {
      "text/plain": [
       "[]"
      ]
     },
     "execution_count": 143,
     "metadata": {},
     "output_type": "execute_result"
    },
    {
     "data": {
      "image/png": "[encoded data removed]",
      "text/plain": [
       "<matplotlib.figure.Figure at 0x173e93e50>"
      ]
     },
     "metadata": {},
     "output_type": "display_data"
    }
   ],
   "source": [
    "pylab.hist(gg_rev_id.count()['RATING'].values,histtype='step',bins=255,color='r',linewidth=3)\n",
    "pylab.loglog()"
   ]
  },
  {
   "cell_type": "code",
   "execution_count": 105,
   "metadata": {
    "collapsed": false
   },
   "outputs": [],
   "source": [
    "#sns.set(rc={\"figure.figsize\": (8, 4)})\n",
    "#ax = sns.distplot(gg_rev_id.count()['RATING'].values,bins=20,\\\n",
    "#                hist_kws={\"histtype\": \"step\", \"linewidth\": 3,\\\n",
    "#                             \"alpha\": 1})\n"
   ]
  },
  {
   "cell_type": "code",
   "execution_count": 132,
   "metadata": {
    "collapsed": false
   },
   "outputs": [],
   "source": [
    "gg_products_id = revdf.groupby(['product_id'])"
   ]
  },
  {
   "cell_type": "code",
   "execution_count": 165,
   "metadata": {
    "collapsed": false
   },
   "outputs": [],
   "source": [
    "one_review_text_list = pd.merge(pd.DataFrame(gg_products_id.count()['RATING'][gg_products_id.count()['RATING']<2])\\\n",
    "         .reset_index(),revdf,on='product_id',how='inner').TEXT.values"
   ]
  },
  {
   "cell_type": "code",
   "execution_count": 174,
   "metadata": {
    "collapsed": false
   },
   "outputs": [
    {
     "data": {
      "text/plain": [
       "66743"
      ]
     },
     "execution_count": 174,
     "metadata": {},
     "output_type": "execute_result"
    }
   ],
   "source": [
    "len(one_review_text_list)"
   ]
  },
  {
   "cell_type": "code",
   "execution_count": 188,
   "metadata": {
    "collapsed": true
   },
   "outputs": [],
   "source": [
    "pp = [x for x in one_review_text_list if len(x.split(\" \"))<20]"
   ]
  },
  {
   "cell_type": "code",
   "execution_count": 190,
   "metadata": {
    "collapsed": false
   },
   "outputs": [
    {
     "data": {
      "text/plain": [
       "1508"
      ]
     },
     "execution_count": 190,
     "metadata": {},
     "output_type": "execute_result"
    }
   ],
   "source": [
    "len(pp)"
   ]
  },
  {
   "cell_type": "code",
   "execution_count": 192,
   "metadata": {
    "collapsed": false
   },
   "outputs": [
    {
     "data": {
      "text/plain": [
       "'too small to work in an air popper.  Who uses the stove anymore!!!'"
      ]
     },
     "execution_count": 192,
     "metadata": {},
     "output_type": "execute_result"
    }
   ],
   "source": [
    "pp[10]"
   ]
  },
  {
   "cell_type": "code",
   "execution_count": 187,
   "metadata": {
    "collapsed": false
   },
   "outputs": [
    {
     "data": {
      "text/plain": [
       "88"
      ]
     },
     "execution_count": 187,
     "metadata": {},
     "output_type": "execute_result"
    }
   ],
   "source": [
    "len(one_review_text_list[0].split(\" \"))"
   ]
  },
  {
   "cell_type": "code",
   "execution_count": null,
   "metadata": {
    "collapsed": false
   },
   "outputs": [],
   "source": []
  },
  {
   "cell_type": "code",
   "execution_count": null,
   "metadata": {
    "collapsed": false
   },
   "outputs": [],
   "source": []
  },
  {
   "cell_type": "code",
   "execution_count": null,
   "metadata": {
    "collapsed": true
   },
   "outputs": [],
   "source": [
    "gg_products_id.count()['RATING']"
   ]
  },
  {
   "cell_type": "code",
   "execution_count": 8,
   "metadata": {
    "collapsed": false
   },
   "outputs": [
    {
     "data": {
      "text/plain": [
       "RATING    1021825\n",
       "TEXT      1021825\n",
       "dtype: int64"
      ]
     },
     "execution_count": 8,
     "metadata": {},
     "output_type": "execute_result"
    }
   ],
   "source": [
    "revdf[revdf['RATING']>3].count()"
   ]
  },
  {
   "cell_type": "code",
   "execution_count": 9,
   "metadata": {
    "collapsed": false
   },
   "outputs": [
    {
     "data": {
      "text/plain": [
       "RATING    163230\n",
       "TEXT      163230\n",
       "dtype: int64"
      ]
     },
     "execution_count": 9,
     "metadata": {},
     "output_type": "execute_result"
    }
   ],
   "source": [
    "revdf[revdf['RATING']<3].count()"
   ]
  },
  {
   "cell_type": "code",
   "execution_count": null,
   "metadata": {
    "collapsed": false
   },
   "outputs": [],
   "source": []
  },
  {
   "cell_type": "code",
   "execution_count": 11,
   "metadata": {
    "collapsed": false
   },
   "outputs": [],
   "source": [
    "bad_rev=revdf[revdf['RATING']<3].ix[0:100000]\n",
    "bad_rev['target']=0"
   ]
  },
  {
   "cell_type": "code",
   "execution_count": 12,
   "metadata": {
    "collapsed": true
   },
   "outputs": [],
   "source": [
    "good_rev=revdf[revdf['RATING']>3].ix[0:100000]\n",
    "good_rev['target']=1"
   ]
  },
  {
   "cell_type": "code",
   "execution_count": 13,
   "metadata": {
    "collapsed": false
   },
   "outputs": [],
   "source": [
    "good_rev.append(bad_rev).to_csv('Train_rev.csv',index=None)"
   ]
  },
  {
   "cell_type": "code",
   "execution_count": 14,
   "metadata": {
    "collapsed": false
   },
   "outputs": [
    {
     "data": {
      "text/plain": [
       "u\"I ordered 3 types of Power Bar.  None of them tastes fresh.  The expiration date isn't until September (it's June now) but I think these bars are stale.  I won't be reordering.\""
      ]
     },
     "execution_count": 14,
     "metadata": {},
     "output_type": "execute_result"
    }
   ],
   "source": [
    "bad_rev.TEXT.irow(79)"
   ]
  },
  {
   "cell_type": "code",
   "execution_count": 15,
   "metadata": {
    "collapsed": false
   },
   "outputs": [
    {
     "data": {
      "text/plain": [
       "u'This brand is disgusting. It is watery and too sweet. If you like the Tazo brand of chai latte you will HATE this brand. I returned it.'"
      ]
     },
     "execution_count": 15,
     "metadata": {},
     "output_type": "execute_result"
    }
   ],
   "source": [
    "bad_rev.TEXT.irow(879)"
   ]
  },
  {
   "cell_type": "code",
   "execution_count": null,
   "metadata": {
    "collapsed": true
   },
   "outputs": [],
   "source": []
  },
  {
   "cell_type": "code",
   "execution_count": null,
   "metadata": {
    "collapsed": true
   },
   "outputs": [],
   "source": []
  }
 ],
 "metadata": {
  "kernelspec": {
   "display_name": "Python 2",
   "language": "python",
   "name": "python2"
  },
  "language_info": {
   "codemirror_mode": {
    "name": "ipython",
    "version": 2
   },
   "file_extension": ".py",
   "mimetype": "text/x-python",
   "name": "python",
   "nbconvert_exporter": "python",
   "pygments_lexer": "ipython2",
   "version": "2.7.10"
  }
 },
 "nbformat": 4,
 "nbformat_minor": 0
}
