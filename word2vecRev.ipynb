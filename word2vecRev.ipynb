{
 "cells": [
  {
   "cell_type": "code",
   "execution_count": 1,
   "metadata": {
    "collapsed": true
   },
   "outputs": [],
   "source": [
    "import json\n",
    "import numpy as np"
   ]
  },
  {
   "cell_type": "code",
   "execution_count": 2,
   "metadata": {
    "collapsed": true
   },
   "outputs": [],
   "source": [
    "import pandas as pd"
   ]
  },
  {
   "cell_type": "code",
   "execution_count": 5,
   "metadata": {
    "collapsed": true
   },
   "outputs": [],
   "source": [
    "import csv, os, sys"
   ]
  },
  {
   "cell_type": "code",
   "execution_count": 133,
   "metadata": {
    "collapsed": false
   },
   "outputs": [],
   "source": [
    "from bs4 import BeautifulSoup\n",
    "import re\n",
    "from nltk.corpus import stopwords\n",
    "import nltk\n",
    "\n",
    "tokenizer = nltk.data.load('tokenizers/punkt/english.pickle')\n",
    "\n",
    "def review_to_wordlist( review, remove_stopwords=False ):\n",
    "    # Function to convert a document to a sequence of words,\n",
    "    # optionally removing stop words.  Returns a list of words.\n",
    "    #\n",
    "    # 1. Remove HTML\n",
    "    review_text = BeautifulSoup(review).get_text()\n",
    "    #  \n",
    "    # 2. Remove non-letters\n",
    "    #review_text = re.sub(\"[^a-zA-Z]\",\" \", review_text)\n",
    "    #\n",
    "    # 3. Convert words to lower case and split them\n",
    "    words = review_text.split()\n",
    "    #\n",
    "    # 4. Optionally remove stop words (false by default)\n",
    "    if remove_stopwords:\n",
    "        stops = set(stopwords.words(\"english\"))\n",
    "        words = [w for w in words if not w in stops]\n",
    "    #\n",
    "    # 5. Return a list of words\n",
    "    return(words)"
   ]
  },
  {
   "cell_type": "code",
   "execution_count": 195,
   "metadata": {
    "collapsed": false
   },
   "outputs": [],
   "source": [
    "def add_pid(dd_json):\n",
    "    review_text = BeautifulSoup(dd_json['content']).get_text()\n",
    "    rr = re.sub(\"[^a-zA-Z]\",\" \", review_text.lower())\n",
    "    rr = rr.split(\" \")\n",
    "    \n",
    "    s=len(rr)\n",
    "    rr_new = rr[0:s/1]+[dd_json['item_id']]+rr[s/2:s]\n",
    "    return rr_new"
   ]
  },
  {
   "cell_type": "code",
   "execution_count": 62,
   "metadata": {
    "collapsed": true
   },
   "outputs": [],
   "source": [
    "from collections import defaultdict\n",
    "from collections import Counter\n",
    "f =open(\"reviews_Grocery_and_Gourmet_Food.json\",mode='r')\n",
    "L = f.readlines()\n",
    "review_list=[]\n",
    "review_list_prod=[]\n",
    "product_id = []\n",
    "d=defaultdict(list)\n",
    "review_dict_list=[]\n",
    "c=0\n",
    "for l in L:\n",
    "    dd={}\n",
    "    jj = json.loads(l)\n",
    "    product_id+=[jj['asin']]\n",
    "    #if jj[\"asin\"] == \"B00LQWKDBM\":\n",
    "    d[jj['asin']].append(jj['reviewText'])\n",
    "    if (len(jj['reviewText'].split(\" \"))>12):\n",
    "        review_list += [jj['reviewText']] \n",
    "    \n",
    "    dd[\"item_id\"] = jj['asin']\n",
    "    dd[\"content\"] = str(jj['reviewText'])\n",
    "    c+=1\n",
    "    dd_json=json.dumps(dd)\n",
    "    review_dict_list+=[dd]\n",
    "f.close()"
   ]
  },
  {
   "cell_type": "code",
   "execution_count": 196,
   "metadata": {
    "collapsed": false
   },
   "outputs": [],
   "source": [
    "all_text_pid = map(lambda x: add_pid(x),review_dict_list[0:100000])"
   ]
  },
  {
   "cell_type": "code",
   "execution_count": 194,
   "metadata": {
    "collapsed": false
   },
   "outputs": [
    {
     "data": {
      "text/plain": [
       "u'wow  this arrived with two green rings    the same size     and no yellow ring   where is the quality control   didn t the packager at amazon notice this glaring mistake   what a disappointment   feels cheap and smells bad  pass on this one  B00000IRTW   didn t the packager at amazon notice this glaring mistake   what a disappointment   feels cheap and smells bad  pass on this one '"
      ]
     },
     "execution_count": 194,
     "metadata": {},
     "output_type": "execute_result"
    }
   ],
   "source": [
    "all_text_pid[475]"
   ]
  },
  {
   "cell_type": "code",
   "execution_count": 135,
   "metadata": {
    "collapsed": false
   },
   "outputs": [],
   "source": [
    "all_text_pid = map(lambda x: review_to_wordlist(x, tokenizer),all_text_pid)"
   ]
  },
  {
   "cell_type": "code",
   "execution_count": null,
   "metadata": {
    "collapsed": false
   },
   "outputs": [],
   "source": []
  },
  {
   "cell_type": "code",
   "execution_count": 139,
   "metadata": {
    "collapsed": false
   },
   "outputs": [],
   "source": [
    "import itertools\n",
    "merged_text = list(itertools.chain(*all_text))\n",
    "merged_text_pid = list(itertools.chain(*all_text_pid))"
   ]
  },
  {
   "cell_type": "code",
   "execution_count": 140,
   "metadata": {
    "collapsed": false
   },
   "outputs": [
    {
     "name": "stdout",
     "output_type": "stream",
     "text": [
      "Training model...\n"
     ]
    }
   ],
   "source": [
    "import logging\n",
    "logging.basicConfig(format='%(asctime)s : %(levelname)s : %(message)s',\\\n",
    "    level=logging.INFO)\n",
    "\n",
    "num_features = 300    # Word vector dimensionality                      \n",
    "min_word_count = 1   # Minimum word count                        \n",
    "num_workers = 4       # Number of threads to run in parallel\n",
    "context = 10          # Context window size                                                                                    \n",
    "downsampling = 1e-3   # Downsample setting for frequent words\n",
    "\n",
    "# Initialize and train the model (this will take some time)\n",
    "from gensim.models import word2vec\n",
    "print \"Training model...\"\n",
    "model = word2vec.Word2Vec(all_text_pid,\n",
    "                          workers=num_workers,size=num_features, \n",
    "                          min_count = min_word_count, window = context, sample = downsampling)\n",
    "\n",
    "# If you don't plan to train the model any further, calling \n",
    "# init_sims will make the model much more memory-efficient.\n",
    "model.init_sims(replace=True)\n",
    "\n",
    "# It can be helpful to create a meaningful model name and \n",
    "# save the model for later use. You can load it later using Word2Vec.load()\n",
    "model_name = \"rev_pid\"\n",
    "model.save(model_name)"
   ]
  },
  {
   "cell_type": "code",
   "execution_count": 87,
   "metadata": {
    "collapsed": false
   },
   "outputs": [],
   "source": [
    "#model.vocab"
   ]
  },
  {
   "cell_type": "code",
   "execution_count": 215,
   "metadata": {
    "collapsed": false
   },
   "outputs": [
    {
     "data": {
      "text/plain": [
       "[(u'B000E130DY', 0.7085045576095581),\n",
       " (u'B000CQBZPG', 0.7072957754135132),\n",
       " (u'teas', 0.7031727433204651),\n",
       " (u'B000CQBZQA', 0.6858943104743958),\n",
       " (u'B000CQBZOW', 0.645676851272583),\n",
       " (u'green', 0.6334189772605896),\n",
       " (u'B000CQIDBK', 0.629112720489502),\n",
       " (u'B000CQIDBU', 0.6187631487846375),\n",
       " (u'B000E1BMYI', 0.588849663734436),\n",
       " (u'B000CQBZQK', 0.588737428188324)]"
      ]
     },
     "execution_count": 215,
     "metadata": {},
     "output_type": "execute_result"
    }
   ],
   "source": [
    "model.most_similar(positive=['tea'])"
   ]
  },
  {
   "cell_type": "code",
   "execution_count": 198,
   "metadata": {
    "collapsed": false
   },
   "outputs": [
    {
     "data": {
      "text/plain": [
       "[(u'B000E1D7RS', 0.6467551589012146),\n",
       " (u'B000CMFKNS', 0.5814913511276245),\n",
       " (u'B000CEO6WM', 0.5619232654571533),\n",
       " (u'B000BTIHBO', 0.5466931462287903),\n",
       " (u'cup', 0.5308606028556824),\n",
       " (u'mahmet', 0.5111957788467407),\n",
       " (u'B000AAJQQO', 0.5107163190841675),\n",
       " (u'B000CDP1UY', 0.49537193775177),\n",
       " (u'comthere', 0.49242138862609863),\n",
       " (u'mehmet', 0.47717005014419556)]"
      ]
     },
     "execution_count": 198,
     "metadata": {},
     "output_type": "execute_result"
    }
   ],
   "source": [
    "model.most_similar(positive=['coffee'])"
   ]
  },
  {
   "cell_type": "code",
   "execution_count": 151,
   "metadata": {
    "collapsed": false
   },
   "outputs": [
    {
     "data": {
      "text/plain": [
       "[(u'B000E1D7RS', 0.6467551589012146),\n",
       " (u'B000CMFKNS', 0.5814913511276245),\n",
       " (u'B000CEO6WM', 0.5619232654571533),\n",
       " (u'B000BTIHBO', 0.5466931462287903),\n",
       " (u'cup', 0.5308606028556824),\n",
       " (u'mahmet', 0.5111957788467407),\n",
       " (u'B000AAJQQO', 0.5107163190841675),\n",
       " (u'B000CDP1UY', 0.49537193775177),\n",
       " (u'comthere', 0.49242138862609863),\n",
       " (u'mehmet', 0.47717005014419556),\n",
       " (u'coffees', 0.47468623518943787),\n",
       " (u'B000CEM4LW', 0.47376561164855957),\n",
       " (u'efendi', 0.47276073694229126),\n",
       " (u'B0009YJXTG', 0.47141870856285095),\n",
       " (u'B000BYALJK', 0.4704415202140808),\n",
       " (u'B000CL4GWU', 0.466859370470047),\n",
       " (u'B000C13ORS', 0.4631667137145996),\n",
       " (u'B000BN7VLW', 0.4608825445175171),\n",
       " (u'amman', 0.45444512367248535),\n",
       " (u'B000C119O8', 0.45338061451911926)]"
      ]
     },
     "execution_count": 151,
     "metadata": {},
     "output_type": "execute_result"
    }
   ],
   "source": [
    "model.most_similar(positive=['coffee'],topn=20)"
   ]
  },
  {
   "cell_type": "code",
   "execution_count": 199,
   "metadata": {
    "collapsed": false
   },
   "outputs": [
    {
     "data": {
      "text/plain": [
       "[(u'keemun', 0.715492844581604),\n",
       " (u'thathave', 0.7015607357025146),\n",
       " (u'ceylon', 0.6821877956390381),\n",
       " (u'castleton', 0.6731735467910767),\n",
       " (u'twining', 0.671531081199646),\n",
       " (u'assam', 0.6643950939178467),\n",
       " (u'quintessentially', 0.6603749394416809),\n",
       " (u'darjeelings', 0.6529108881950378),\n",
       " (u'unquestionably', 0.6443912386894226),\n",
       " (u'muscatel', 0.6426557898521423)]"
      ]
     },
     "execution_count": 199,
     "metadata": {},
     "output_type": "execute_result"
    }
   ],
   "source": [
    "model.most_similar(positive=['darjeeling'])"
   ]
  },
  {
   "cell_type": "code",
   "execution_count": 200,
   "metadata": {
    "collapsed": false
   },
   "outputs": [
    {
     "data": {
      "text/plain": [
       "[(u'B000CPZSC8', 0.6581645011901855),\n",
       " (u'beans', 0.657178521156311),\n",
       " (u'B000C5UYF4', 0.6370257139205933),\n",
       " (u'B000COC0PC', 0.6277520656585693),\n",
       " (u'extract', 0.6196675300598145),\n",
       " (u'B000CR1ELU', 0.6186503171920776),\n",
       " (u'B000C5YVCQ', 0.612859845161438),\n",
       " (u'considerpremium', 0.6051232814788818),\n",
       " (u'B000CPYVGM', 0.5951237082481384),\n",
       " (u'B000CO81LE', 0.5776723623275757),\n",
       " (u'vanille', 0.5749683380126953),\n",
       " (u'B000CQ5D1I', 0.5708217024803162),\n",
       " (u'brul', 0.5670573711395264),\n",
       " (u'jeni', 0.5530774593353271),\n",
       " (u'flagrant', 0.5482066869735718),\n",
       " (u'maturation', 0.5448338985443115),\n",
       " (u'varitety', 0.5409057140350342),\n",
       " (u'vodkas', 0.5282551050186157),\n",
       " (u'myjar', 0.5264564156532288),\n",
       " (u'B000CQ44C2', 0.5244849920272827)]"
      ]
     },
     "execution_count": 200,
     "metadata": {},
     "output_type": "execute_result"
    }
   ],
   "source": [
    "model.most_similar(positive=[\"vanilla\"],topn=20)"
   ]
  },
  {
   "cell_type": "code",
   "execution_count": 201,
   "metadata": {
    "collapsed": false
   },
   "outputs": [
    {
     "data": {
      "text/plain": [
       "[(u'B000CQ01GU', 0.669583261013031),\n",
       " (u'mac', 0.6677161455154419),\n",
       " (u'cheddar', 0.6188218593597412),\n",
       " (u'kraft', 0.6175388693809509),\n",
       " (u'B000CQ01LA', 0.6132234334945679),\n",
       " (u'B000CQ01NS', 0.5883665680885315),\n",
       " (u'macaroni', 0.5850459337234497),\n",
       " (u'annie', 0.5811018943786621),\n",
       " (u'annies', 0.542894721031189),\n",
       " (u'velveeta', 0.5375041961669922),\n",
       " (u'B000CQ25TQ', 0.5279425978660583),\n",
       " (u'cheesy', 0.5266759395599365),\n",
       " (u'balderson', 0.5236006379127502),\n",
       " (u'B000E199UC', 0.5178687572479248),\n",
       " (u'loyalists', 0.5172863006591797),\n",
       " (u'conesiur', 0.5125787854194641),\n",
       " (u'chessiest', 0.5082336068153381),\n",
       " (u'reggo', 0.5064014196395874),\n",
       " (u'chz', 0.5037295818328857),\n",
       " (u'schloch', 0.4992867708206177)]"
      ]
     },
     "execution_count": 201,
     "metadata": {},
     "output_type": "execute_result"
    }
   ],
   "source": [
    "model.most_similar(positive=[\"cheese\"],topn=20)"
   ]
  },
  {
   "cell_type": "code",
   "execution_count": 160,
   "metadata": {
    "collapsed": false
   },
   "outputs": [
    {
     "data": {
      "text/plain": [
       "[(u'B000CORSA4', 0.5609015226364136),\n",
       " (u'theclif', 0.5580374002456665),\n",
       " (u'B000C2RTYG', 0.5568441152572632),\n",
       " (u'kiwi', 0.5384212136268616),\n",
       " (u'B000BJOEMA', 0.5196341276168823),\n",
       " (u'grape', 0.5030319690704346),\n",
       " (u'glico', 0.5027259588241577),\n",
       " (u'mangosteen', 0.4823492765426636),\n",
       " (u'sprarkling', 0.48038220405578613),\n",
       " (u'leathers', 0.4754270017147064),\n",
       " (u'lychee', 0.47245436906814575),\n",
       " (u'besttt', 0.4679737091064453),\n",
       " (u'clinches', 0.4674139618873596),\n",
       " (u'tarty', 0.4648945927619934),\n",
       " (u'crapshoot', 0.4592456817626953),\n",
       " (u'B0006HC75S', 0.4580153822898865),\n",
       " (u'uha', 0.4551580548286438),\n",
       " (u'preserves', 0.45375028252601624),\n",
       " (u'B000BKGNUA', 0.4472818970680237),\n",
       " (u'blk', 0.44720834493637085)]"
      ]
     },
     "execution_count": 160,
     "metadata": {},
     "output_type": "execute_result"
    }
   ],
   "source": [
    "model.most_similar(positive=[\"strawberry\"],topn=20)"
   ]
  },
  {
   "cell_type": "code",
   "execution_count": null,
   "metadata": {
    "collapsed": false
   },
   "outputs": [],
   "source": []
  },
  {
   "cell_type": "code",
   "execution_count": 216,
   "metadata": {
    "collapsed": false
   },
   "outputs": [
    {
     "data": {
      "text/plain": [
       "[(u'cereals', 0.5408421158790588),\n",
       " (u'B000CRIUNU', 0.47718480229377747),\n",
       " (u'B000AY9UKM', 0.4461808204650879),\n",
       " (u'kashi', 0.4441458284854889),\n",
       " (u'B000CS9ZW4', 0.43773049116134644),\n",
       " (u'B000AY9UNE', 0.43516474962234497),\n",
       " (u'B0007SNZBQ', 0.41788458824157715),\n",
       " (u'B000CSEFQ0', 0.41523095965385437),\n",
       " (u'B000CSCP1C', 0.4053013026714325),\n",
       " (u'kellogg', 0.3978545367717743)]"
      ]
     },
     "execution_count": 216,
     "metadata": {},
     "output_type": "execute_result"
    }
   ],
   "source": [
    "model.most_similar(positive=[\"granola\",\"cereal\"],negative=['sugar'])"
   ]
  },
  {
   "cell_type": "code",
   "execution_count": 217,
   "metadata": {
    "collapsed": false
   },
   "outputs": [
    {
     "data": {
      "text/plain": [
       "[(u'sensha', 0.4757012724876404),\n",
       " (u'lemony', 0.4743439257144928),\n",
       " (u'B0001ENZJS', 0.47144025564193726),\n",
       " (u'B000BDGA5A', 0.46304553747177124),\n",
       " (u'tangerine', 0.45754915475845337),\n",
       " (u'cinnamony', 0.4547739028930664),\n",
       " (u'prominant', 0.4514232277870178),\n",
       " (u'verges', 0.44906294345855713),\n",
       " (u'tisane', 0.44839489459991455),\n",
       " (u'schizandra', 0.4471145272254944)]"
      ]
     },
     "execution_count": 217,
     "metadata": {},
     "output_type": "execute_result"
    }
   ],
   "source": [
    "model.most_similar(positive=[\"citrus\"])"
   ]
  },
  {
   "cell_type": "code",
   "execution_count": 218,
   "metadata": {
    "collapsed": false
   },
   "outputs": [
    {
     "data": {
      "text/plain": [
       "[(u'essn', 0.5945985317230225),\n",
       " (u'grapefruit', 0.5663565397262573),\n",
       " (u'tangerine', 0.5614561438560486),\n",
       " (u'B000BDHBWQ', 0.5542471408843994),\n",
       " (u'minneola', 0.5471541285514832),\n",
       " (u'B000BDHBWG', 0.5443358421325684),\n",
       " (u'B000BDDHPQ', 0.5294890999794006),\n",
       " (u'sanpelligrino', 0.5246742963790894),\n",
       " (u'citrus', 0.5217316150665283),\n",
       " (u'B000BH3K8G', 0.5174712538719177),\n",
       " (u'moet', 0.5151007175445557),\n",
       " (u'zinger', 0.5142519474029541),\n",
       " (u'giner', 0.5043891668319702),\n",
       " (u'verbena', 0.49788933992385864),\n",
       " (u'B000CHMJWI', 0.4945055842399597),\n",
       " (u'myrtle', 0.49374955892562866),\n",
       " (u'harmonious', 0.49080756306648254),\n",
       " (u'lime', 0.48945966362953186),\n",
       " (u'B000AXWA00', 0.48716098070144653),\n",
       " (u'icelotuszen', 0.4824545979499817)]"
      ]
     },
     "execution_count": 218,
     "metadata": {},
     "output_type": "execute_result"
    }
   ],
   "source": [
    "model.most_similar(positive=['B0001ENZJS','B000BDGA5A'],negative=['sweet'],topn=20)"
   ]
  },
  {
   "cell_type": "code",
   "execution_count": 214,
   "metadata": {
    "collapsed": false
   },
   "outputs": [
    {
     "data": {
      "text/plain": [
       "[(u'clobbering', 0.4903775155544281),\n",
       " (u'B000CESZOM', 0.4875714182853699),\n",
       " (u'warm', 0.47784554958343506),\n",
       " (u'borring', 0.4697333574295044),\n",
       " (u'capp', 0.45062631368637085),\n",
       " (u'B000E148MG', 0.4487800896167755),\n",
       " (u'heat', 0.44477832317352295),\n",
       " (u'B000BUGFZ8', 0.43916523456573486),\n",
       " (u'B000A6HOVC', 0.4363606572151184),\n",
       " (u'chocopotle', 0.4272227883338928),\n",
       " (u'pepperyas', 0.423629492521286),\n",
       " (u'B000CMH0PY', 0.422413170337677),\n",
       " (u'bfs', 0.4189275801181793),\n",
       " (u'wisked', 0.4182887673377991),\n",
       " (u'B0002G3UWM', 0.418211430311203),\n",
       " (u'B000E123N2', 0.41808706521987915),\n",
       " (u'B000E123IC', 0.411756694316864),\n",
       " (u'B000CMGZFA', 0.40912503004074097),\n",
       " (u'B000A0WLFC', 0.4087831377983093),\n",
       " (u'turnoff', 0.40821367502212524)]"
      ]
     },
     "execution_count": 214,
     "metadata": {},
     "output_type": "execute_result"
    }
   ],
   "source": [
    "model.most_similar(positive=['hot','spicy'],topn=20)"
   ]
  },
  {
   "cell_type": "code",
   "execution_count": 205,
   "metadata": {
    "collapsed": false
   },
   "outputs": [
    {
     "data": {
      "text/plain": [
       "[(u'egyptian', 0.6071937084197998),\n",
       " (u'anise', 0.5932295918464661),\n",
       " (u'dilatory', 0.5360476970672607),\n",
       " (u'B000CMF1A0', 0.5296076536178589),\n",
       " (u'licoriceyogi', 0.5259384512901306),\n",
       " (u'egiptian', 0.5249632596969604),\n",
       " (u'simiar', 0.5137002468109131),\n",
       " (u'ojibwa', 0.5058711767196655),\n",
       " (u'root', 0.5044517517089844),\n",
       " (u'fruitty', 0.490701287984848)]"
      ]
     },
     "execution_count": 205,
     "metadata": {},
     "output_type": "execute_result"
    }
   ],
   "source": [
    "model.most_similar(positive=[\"licorice\"])"
   ]
  },
  {
   "cell_type": "code",
   "execution_count": 206,
   "metadata": {
    "collapsed": false
   },
   "outputs": [
    {
     "data": {
      "text/plain": [
       "[(u'B00061KXV4', 0.702656090259552),\n",
       " (u'dundee', 0.6739948987960815),\n",
       " (u'B0001IBP50', 0.6341570615768433),\n",
       " (u'keiller', 0.5858461856842041),\n",
       " (u'marmalades', 0.5578844547271729),\n",
       " (u'B000BJK16S', 0.556955099105835),\n",
       " (u'B00060ONFW', 0.5543650388717651),\n",
       " (u'bridges', 0.5532878637313843),\n",
       " (u'tawny', 0.5075708031654358),\n",
       " (u'sarabeth', 0.5040978193283081)]"
      ]
     },
     "execution_count": 206,
     "metadata": {},
     "output_type": "execute_result"
    }
   ],
   "source": [
    "model.most_similar(positive=[\"marmalade\"])"
   ]
  },
  {
   "cell_type": "code",
   "execution_count": 207,
   "metadata": {
    "collapsed": false
   },
   "outputs": [
    {
     "data": {
      "text/plain": [
       "[(u'globalworx', 0.6046561002731323),\n",
       " (u'delivery', 0.5929408073425293),\n",
       " (u'prime', 0.539040207862854),\n",
       " (u'lollicup', 0.5311954021453857),\n",
       " (u'B000BT0LRC', 0.5265222191810608),\n",
       " (u'fee', 0.5202947854995728),\n",
       " (u'convinent', 0.5164339542388916),\n",
       " (u'trustworthiness', 0.5153446793556213),\n",
       " (u'subscibe', 0.5139398574829102),\n",
       " (u'charges', 0.511542022228241),\n",
       " (u'charged', 0.5024595260620117),\n",
       " (u'price', 0.5015949010848999),\n",
       " (u'B000ARTNM4', 0.4962100386619568),\n",
       " (u'shipped', 0.49488967657089233),\n",
       " (u'B000BIZT5M', 0.4945387542247772),\n",
       " (u'btls', 0.4918751120567322),\n",
       " (u'B000CEOXFW', 0.4917702078819275),\n",
       " (u'summaryitems', 0.491680383682251),\n",
       " (u'alwaysfind', 0.4900383949279785),\n",
       " (u'B000ASTPK8', 0.48250138759613037)]"
      ]
     },
     "execution_count": 207,
     "metadata": {},
     "output_type": "execute_result"
    }
   ],
   "source": [
    "model.most_similar('shipping',topn=20)"
   ]
  },
  {
   "cell_type": "code",
   "execution_count": 147,
   "metadata": {
    "collapsed": false
   },
   "outputs": [],
   "source": [
    "coffee_words = model.most_similar(positive=[\"coffee\"],negative=[\"tea\"],topn=100)"
   ]
  },
  {
   "cell_type": "code",
   "execution_count": 150,
   "metadata": {
    "collapsed": false
   },
   "outputs": [],
   "source": [
    "f = open('word.tsv',mode='w')\n",
    "for tt,ww in tea_words:\n",
    "    f.write(\"%s\\n\"%tt)\n",
    "f.close()"
   ]
  },
  {
   "cell_type": "code",
   "execution_count": 151,
   "metadata": {
    "collapsed": true
   },
   "outputs": [],
   "source": [
    "f = open('word_not_tea.tsv',mode='w')\n",
    "for tt,ww in coffee_words:\n",
    "    f.write(\"%s\\n\"%tt)\n",
    "f.close()"
   ]
  },
  {
   "cell_type": "code",
   "execution_count": 148,
   "metadata": {
    "collapsed": false
   },
   "outputs": [],
   "source": [
    "tea_words=model.most_similar(positive=[\"tea\"],negative=['coffee'],topn=100)"
   ]
  },
  {
   "cell_type": "code",
   "execution_count": null,
   "metadata": {
    "collapsed": true
   },
   "outputs": [],
   "source": []
  },
  {
   "cell_type": "code",
   "execution_count": 135,
   "metadata": {
    "collapsed": false
   },
   "outputs": [
    {
     "data": {
      "text/plain": [
       "[(u'prime', 0.6503046154975891),\n",
       " (u'charges', 0.6452329754829407),\n",
       " (u'charge', 0.6369796991348267),\n",
       " (u'handling', 0.6188427805900574),\n",
       " (u'eligible', 0.6038777828216553),\n",
       " (u'ships', 0.6022206544876099),\n",
       " (u'delivery', 0.6003583669662476),\n",
       " (u'ship', 0.5967106819152832),\n",
       " (u'shipped', 0.590171217918396),\n",
       " (u'fee', 0.5737879276275635),\n",
       " (u'charged', 0.5716139078140259),\n",
       " (u'membership', 0.5710250735282898),\n",
       " (u'tax', 0.5633741617202759),\n",
       " (u'postage', 0.5630922913551331),\n",
       " (u'discount', 0.5598807334899902),\n",
       " (u'coupon', 0.5554779767990112),\n",
       " (u'shipment', 0.5387856364250183),\n",
       " (u'costs', 0.5106035470962524),\n",
       " (u'pay', 0.5055798292160034),\n",
       " (u'outrageous', 0.505068838596344)]"
      ]
     },
     "execution_count": 135,
     "metadata": {},
     "output_type": "execute_result"
    }
   ],
   "source": [
    "model.most_similar('shipping',topn=20)"
   ]
  },
  {
   "cell_type": "code",
   "execution_count": 136,
   "metadata": {
    "collapsed": false
   },
   "outputs": [
    {
     "data": {
      "text/plain": [
       "[(u'described', 0.6036078333854675),\n",
       " (u'advertised', 0.5639945864677429),\n",
       " (u'expecting', 0.530653715133667),\n",
       " (u'exactly', 0.5173431634902954),\n",
       " (u'shape', 0.5100089311599731),\n",
       " (u'overall', 0.4958585798740387),\n",
       " (u'condition', 0.4882384240627289),\n",
       " (u'disappointed', 0.4674942195415497),\n",
       " (u'promised', 0.4632258415222168),\n",
       " (u'pleased', 0.45829206705093384),\n",
       " (u'expect', 0.4579944908618927),\n",
       " (u'earlier', 0.4548669457435608),\n",
       " (u'quickly', 0.45081350207328796),\n",
       " (u'nicely', 0.4434491991996765),\n",
       " (u'pictured', 0.43962106108665466),\n",
       " (u'fine', 0.43812114000320435),\n",
       " (u'arrived', 0.42969614267349243),\n",
       " (u'promptly', 0.4283469319343567),\n",
       " (u'ok', 0.42699915170669556),\n",
       " (u'disappointing', 0.42626938223838806)]"
      ]
     },
     "execution_count": 136,
     "metadata": {},
     "output_type": "execute_result"
    }
   ],
   "source": [
    "model.most_similar('expected',topn=20)"
   ]
  },
  {
   "cell_type": "code",
   "execution_count": 141,
   "metadata": {
    "collapsed": false
   },
   "outputs": [
    {
     "data": {
      "text/plain": [
       "[(u'plump', 0.48889070749282837),\n",
       " (u'moist', 0.4677954912185669),\n",
       " (u'packaged', 0.4577162265777588),\n",
       " (u'wonderful', 0.42614468932151794),\n",
       " (u'amazing', 0.4174938201904297),\n",
       " (u'sealed', 0.41142117977142334),\n",
       " (u'dried', 0.40930086374282837),\n",
       " (u'nice', 0.40703022480010986),\n",
       " (u'freshness', 0.4066725969314575),\n",
       " (u'vacuum', 0.40644919872283936),\n",
       " (u'used', 0.4037497639656067),\n",
       " (u'pliable', 0.40044116973876953),\n",
       " (u'quality', 0.39807724952697754),\n",
       " (u'packed', 0.3972757160663605),\n",
       " (u'coconut', 0.3893470764160156),\n",
       " (u'well', 0.38508063554763794),\n",
       " (u'way', 0.38409459590911865),\n",
       " (u'excellent', 0.3838505744934082),\n",
       " (u'soft', 0.37435460090637207),\n",
       " (u'fragrant', 0.3725663423538208),\n",
       " (u'fresher', 0.37251874804496765),\n",
       " (u'great', 0.36926260590553284),\n",
       " (u'use', 0.3692306876182556),\n",
       " (u'delicious', 0.369113564491272),\n",
       " (u'little', 0.368068128824234),\n",
       " (u'package', 0.36436712741851807),\n",
       " (u'smell', 0.363912969827652),\n",
       " (u'quickly', 0.3632248640060425),\n",
       " (u'bag', 0.36136025190353394),\n",
       " (u'vanilla', 0.3575214743614197),\n",
       " (u'comes', 0.35457760095596313),\n",
       " (u'however', 0.3543655574321747),\n",
       " (u'arrived', 0.34994542598724365),\n",
       " (u'still', 0.34574055671691895),\n",
       " (u'came', 0.3431050181388855),\n",
       " (u'tasty', 0.34288638830184937),\n",
       " (u'right', 0.34269940853118896),\n",
       " (u'homemade', 0.34254878759384155),\n",
       " (u'beans', 0.34199726581573486),\n",
       " (u'perfect', 0.3416231870651245),\n",
       " (u'time', 0.3410622477531433),\n",
       " (u'frozen', 0.33948206901550293),\n",
       " (u'put', 0.3377223312854767),\n",
       " (u'good', 0.3349601626396179),\n",
       " (u'also', 0.3335491418838501),\n",
       " (u'dry', 0.3331059217453003),\n",
       " (u'opened', 0.33181288838386536),\n",
       " (u'open', 0.33164769411087036),\n",
       " (u'real', 0.33129918575286865),\n",
       " (u'using', 0.33093807101249695),\n",
       " (u'home', 0.330613911151886),\n",
       " (u'full', 0.3300906717777252),\n",
       " (u'actually', 0.3288687765598297),\n",
       " (u'already', 0.327933132648468),\n",
       " (u'container', 0.3259603679180145),\n",
       " (u'stale', 0.3230185806751251),\n",
       " (u'nicely', 0.32281315326690674),\n",
       " (u'super', 0.3214308023452759),\n",
       " (u'aroma', 0.3206913471221924),\n",
       " (u'easy', 0.316140353679657),\n",
       " (u'top', 0.31325194239616394),\n",
       " (u'packs', 0.31250429153442383),\n",
       " (u'makes', 0.31247153878211975),\n",
       " (u'water', 0.3121773898601532),\n",
       " (u'almost', 0.3117322325706482),\n",
       " (u'ones', 0.31059953570365906),\n",
       " (u'freshly', 0.3095652759075165),\n",
       " (u'definitely', 0.3074432611465454),\n",
       " (u'crisp', 0.3071109354496002),\n",
       " (u'come', 0.30567002296447754),\n",
       " (u'days', 0.30559948086738586),\n",
       " (u'airtight', 0.3045557737350464),\n",
       " (u'air', 0.3045201301574707),\n",
       " (u'far', 0.3022787868976593),\n",
       " (u'split', 0.3017498850822449),\n",
       " (u'mushrooms', 0.3011853098869324),\n",
       " (u'get', 0.30090898275375366),\n",
       " (u'making', 0.3004150986671448),\n",
       " (u'always', 0.2999861240386963),\n",
       " (u'long', 0.2994716763496399),\n",
       " (u'resealable', 0.2968084514141083),\n",
       " (u'expected', 0.29564404487609863),\n",
       " (u'quite', 0.295526921749115),\n",
       " (u'freeze', 0.2952038049697876),\n",
       " (u'inside', 0.29328858852386475),\n",
       " (u'ripe', 0.29305121302604675),\n",
       " (u'capp', 0.29237210750579834),\n",
       " (u'fast', 0.29183638095855713),\n",
       " (u'tender', 0.29160505533218384),\n",
       " (u'flavorful', 0.2914001941680908),\n",
       " (u'fantastic', 0.29133498668670654),\n",
       " (u'make', 0.29058393836021423),\n",
       " (u'hand', 0.2902907729148865),\n",
       " (u'keeps', 0.2879388630390167),\n",
       " (u'squeezed', 0.28741204738616943),\n",
       " (u'best', 0.28709062933921814),\n",
       " (u'juicy', 0.2862343192100525),\n",
       " (u'around', 0.28362882137298584),\n",
       " (u'stays', 0.2835625410079956),\n",
       " (u'seeds', 0.28307926654815674)]"
      ]
     },
     "execution_count": 141,
     "metadata": {},
     "output_type": "execute_result"
    }
   ],
   "source": [
    "model.most_similar('fresh',topn=100)"
   ]
  },
  {
   "cell_type": "code",
   "execution_count": null,
   "metadata": {
    "collapsed": true
   },
   "outputs": [],
   "source": []
  }
 ],
 "metadata": {
  "kernelspec": {
   "display_name": "Python 2",
   "language": "python",
   "name": "python2"
  },
  "language_info": {
   "codemirror_mode": {
    "name": "ipython",
    "version": 2
   },
   "file_extension": ".py",
   "mimetype": "text/x-python",
   "name": "python",
   "nbconvert_exporter": "python",
   "pygments_lexer": "ipython2",
   "version": "2.7.10"
  }
 },
 "nbformat": 4,
 "nbformat_minor": 0
}
